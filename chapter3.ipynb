{
 "cells": [
  {
   "cell_type": "markdown",
   "metadata": {},
   "source": [
    "# Exercise 3.1 \n",
    "\n",
    "(a) Let $y=(y_1, \\dots, y_J) \\mid \\theta \\sim \\text{Multinomial}(\\theta_1, \\dots, \\theta_J)$ where $\\sum \\theta_j = 1$ and $\\theta = (\\theta_1, \\dots,  \\theta_J) \\sim \\text{Dirichlet}(\\alpha_1, \\dots, \\alpha_J)$. \n",
    "\n",
    "Now define $z_i = \\alpha_i + y_i$ for all $i = 1, .., J$, then we have\n",
    "\n",
    "\\begin{equation*}\n",
    "\\theta \\mid y \\sim \\text{Dirichlet}(z_1, \\dots, z_J)\n",
    "\\end{equation*}\n",
    "\n",
    "and \n",
    "\n",
    "\\begin{equation*}\n",
    "\\tilde{\\theta} = (\\theta_1, \\theta_2, 1-\\theta_1 - \\theta_2) \\mid y \\sim \\text{Dirichlet}(z_1, z_2, \\sum_{j=3}^N z_j) \\:\\:\\:\\: \\text{ (cfr. Appendix A)}\n",
    "\\end{equation*}\n",
    "\n",
    "Therefore \n",
    "\n",
    "\\begin{equation*}\n",
    "p(\\tilde{\\theta} \\mid y) = p(\\theta_1, \\theta_2 \\mid y) \\propto \\theta^{z_1 - 1}_1 \\theta^{z_2 - 1}_2 (1 - \\theta_1 - \\theta_2)^{(\\sum_{j=3}^N z_j) - 1}\n",
    "\\end{equation*}\n",
    "\n",
    "Define $\\phi : \\mathbb{R}^2 \\rightarrow \\mathbb{R}^2$ such that:\n",
    "\n",
    "\\begin{equation*}\n",
    "\\phi(\\theta_1, \\theta_2) = \\left(\\frac{\\theta_1}{\\theta_1 + \\theta_2}, \\theta_1 + \\theta_2 \\right) =: (\\alpha, \\beta)\n",
    "\\end{equation*}\n",
    "\n",
    "which is a bijection with inverse:\n",
    "\n",
    "\\begin{equation*}\n",
    "\\phi^{-1}(\\alpha, \\beta) = \\big(\\alpha\\beta, \\beta(1-\\alpha) \\big)\n",
    "\\end{equation*}\n",
    "\n",
    "Hence \n",
    "\n",
    "\\begin{equation*}\n",
    "J_{\\phi^{-1}} = \\begin{pmatrix}\n",
    "\\beta & -\\beta\\\\\n",
    "\\alpha & (1-\\alpha)\n",
    "\\end{pmatrix}\n",
    "\\:\\: \\Longrightarrow \\:\\: \\Big| J_{\\phi^{-1}} \\Big| = \\beta\n",
    "\\end{equation*}\n",
    "\n",
    "Therefore we obtain:\n",
    "\n",
    "\\begin{equation*}\n",
    "\\begin{split}\n",
    "p(\\alpha,\\beta\\mid y) & = p\\big(\\phi^{-1}(\\alpha, \\beta) \\mid y \\big) \\cdot \\Big| J_{\\phi^{-1}} \\Big|\\\\[5pt]\n",
    "& \\propto (\\alpha\\beta)^{z_1-1}\\beta^{z_2-1}(1-\\alpha)^{z_2-1}(1-\\beta)^{(\\sum_{j=3}^N z_j) - 1}\\beta \\\\[5pt]\n",
    "& = \\alpha^{z_1-1}(1-\\alpha)^{z_2-1}\\beta^{z_1+z_2-1}(1-\\beta)^{(\\sum_{j=3}^N z_j) - 1}\n",
    "\\end{split}\n",
    "\\end{equation*}\n",
    "\n",
    "Marginalizing we get the posterior distribution of $\\alpha$:\n",
    "\n",
    "\\begin{equation*}\n",
    "\\begin{split}\n",
    "p(\\alpha\\mid y) & = \\int^1_0 p(\\alpha,\\beta\\mid y) d\\beta\\\\\n",
    "& \\propto \\alpha^{z_1-1}(1-\\alpha)^{z_2-1}\\\\[10pt]\n",
    "\\Longrightarrow \\:\\:& \\alpha\\mid y \\sim \\text{Beta}(z_1, z_2) = \\text{Beta}(\\alpha_1 + y_1, \\alpha_2 + y_2) \n",
    "\\end{split}\n",
    "\\end{equation*}\n",
    "\n",
    "(b) If $y_1 \\mid \\alpha \\sim \\text{Binomial}(y_1 + y_2, \\alpha)$ and  $\\alpha \\sim \\text{Beta}(\\alpha_1, \\alpha_2)$, then \n",
    "$\\alpha \\mid y_1 \\sim \\text{Beta}(\\alpha_1 + y_1, \\alpha_2 + y_2)$."
   ]
  },
  {
   "cell_type": "markdown",
   "metadata": {},
   "source": [
    "# Exercise 3.2\n",
    "\n",
    "Let $y=(y_1, y_2, y_3) \\mid \\theta \\sim \\text{Multinomial}(\\theta_1, \\theta_2, \\theta_3)$ with $\\theta = (\\theta_1, \\theta_2, \\theta_3) \\sim \\text{Dirichlet}(1,1,1)$, and let $z=(z_1, z_2, z_3) \\mid \\omega \\sim \\text{Multinomial}(\\omega_1, \\omega_2, \\omega_3)$ with $\\omega = (\\omega_1, \\omega_2, \\omega_3)\\sim \\text{Dirichlet}(1,1,1)$.\n",
    "\n",
    "Then $\\theta \\mid y \\sim \\text{Dirichlet}(295, 308, 39)$ and $\\omega \\mid z \\sim \\text{Dirichlet}(289, 333, 20)$.\n",
    "Now let $\\alpha_1 = \\frac{\\theta_1}{\\theta_1 + \\theta_2}$ and $\\alpha_2 =\\frac{\\omega_1}{\\omega_1 + \\omega_2}$, then from Exercise 3.1 follows that $\\alpha_1 \\mid y \\sim \\text{Beta}(295, 308)$ and $\\alpha_2 \\mid z \\sim \\text{Beta}(289, 333)$.\n",
    "\n",
    "\n",
    "```\n",
    "import numpy as np\n",
    "import scipy.stats as stats\n",
    "import plotly.graph_objects as go\n",
    "\n",
    "a1 = stats.beta(a=295, b=308).rvs(5000)\n",
    "a2 = stats.beta(a=289, b=333).rvs(5000)\n",
    "\n",
    "np.mean(a2-a1>0)\n",
    "0.1924\n",
    "```\n",
    "\n",
    "and the histogram of the posterior density for $\\alpha_2 - \\alpha_1$ is:\n",
    "\n",
    "```\n",
    "fig = go.Figure(\n",
    "        go.Histogram(\n",
    "            x=a2-a1,\n",
    "            histnorm='probability'         \n",
    "        )\n",
    ")\n",
    "\n",
    "fig.update_layout(\n",
    "    title={'text': 'Fig 3.1 - Histogram of alpha2 - alpha1',\n",
    "           'y':0.9, 'x':0.5, 'xanchor': 'center', 'yanchor': 'top'},\n",
    "    xaxis={'title': 'alpha2 - alpha1'}, yaxis={'title': 'frequencies'})\n",
    "\n",
    "fig\n",
    "```\n",
    "<img src=\"figures/fig3.1.png\">\n"
   ]
  },
  {
   "cell_type": "markdown",
   "metadata": {
    "ExecuteTime": {
     "end_time": "2020-12-26T10:32:34.800307Z",
     "start_time": "2020-12-26T10:32:34.782037Z"
    }
   },
   "source": [
    "# Exercise 3.3\n",
    "\n",
    "(a) Let's denote with subscript $c$ the control group and subscript $t$ the treatment group.\n",
    "\n",
    "\\begin{itemize}\n",
    "\\item \\textit{Control group}: $y_c \\sim N(\\mu_c, \\sigma^2_c)$, $n_c=32$, $\\bar{y_c}=1.013$, $s_c = 0.24$.\n",
    "\\item \\textit{Treatment group}: $y_t \\sim N(\\mu_t, \\sigma^2_t)$, $n_t=36$, $\\bar{y_t}=1.173$, $s_t =0.2$.\n",
    "\\end{itemize}\n",
    "\n",
    "Starting from a noninformative prior distribution, follows that \n",
    "\\begin{equation*}\n",
    "\\begin{split}\n",
    "& \\mu_c \\mid y_c \\sim t_{n_c-1}\\left( \\bar{y_c}, \\frac{s^2_c}{n_c} \\right) = t_{31}\\left( 1.013, \\frac{0.24^2}{32}\\right) = t_{31}\\left( 1.013, (0.0424)^2\\right) \\\\[5pt]\n",
    "& \\mu_t \\mid y_t \\sim t_{n_t-1}\\left( \\bar{y_t}, \\frac{s^2_t}{n_t} \\right) = t_{35}\\left( 1.173, \\frac{0.20^2}{36}\\right) = t_{35}\\left( 1.173, (0.0333)^2\\right) \\\\[5pt]\n",
    "\\end{split}\n",
    "\\end{equation*}\n",
    "\n",
    "(b) Let's sample from these two distributions:\n",
    "```python\n",
    "import numpy as np\n",
    "import scipy.stats as stats\n",
    "import plotly.graph_objects as go\n",
    "\n",
    "mu_c = stats.t(df=31, loc=1.013, scale=0.0424).rvs(5000)\n",
    "mu_t = stats.t(df=35, loc=1.173, scale=0.0333).rvs(5000)\n",
    "\n",
    "m_diff = mu_t - mu_c \n",
    "m=np.mean(m_diff)\n",
    "s=np.std(m_diff)\n",
    "\n",
    "print(m-1.997*s, m+1.997*s)\n",
    "0.04945077081897778 0.26993070422001886\n",
    "```\n",
    "Based on this sampling 95% posterior interval for $\\mu_t - \\mu_c$ is $[0.049, 0.2699]$ and its histogram is:\n",
    "```python\n",
    "fig = go.Figure(\n",
    "        go.Histogram(\n",
    "            x=m_diff,\n",
    "            histnorm='probability'         \n",
    "        )\n",
    ")\n",
    "\n",
    "fig.update_layout(\n",
    "    title={'text': 'Fig 3.2 - Histogram of mu_t - mu_c',\n",
    "           'y':0.9, 'x':0.5, 'xanchor': 'center', 'yanchor': 'top'},\n",
    "    xaxis={'title': 'mu_t - mu_c'}, yaxis={'title': 'frequencies'})\n",
    "\n",
    "fig\n",
    "```\n",
    "<img src=\"figures/fig3.2.png\">\n"
   ]
  },
  {
   "cell_type": "code",
   "execution_count": null,
   "metadata": {
    "ExecuteTime": {
     "end_time": "2020-12-26T11:08:39.090776Z",
     "start_time": "2020-12-26T11:08:39.062431Z"
    }
   },
   "outputs": [],
   "source": [
    "\n"
   ]
  },
  {
   "cell_type": "code",
   "execution_count": null,
   "metadata": {
    "ExecuteTime": {
     "end_time": "2020-12-26T11:10:23.764278Z",
     "start_time": "2020-12-26T11:10:23.657560Z"
    }
   },
   "outputs": [],
   "source": []
  },
  {
   "cell_type": "code",
   "execution_count": null,
   "metadata": {
    "ExecuteTime": {
     "end_time": "2020-12-26T11:05:35.936739Z",
     "start_time": "2020-12-26T11:05:35.918428Z"
    }
   },
   "outputs": [],
   "source": []
  }
 ],
 "metadata": {
  "kernelspec": {
   "display_name": "Python 3",
   "language": "python",
   "name": "python3"
  },
  "language_info": {
   "codemirror_mode": {
    "name": "ipython",
    "version": 3
   },
   "file_extension": ".py",
   "mimetype": "text/x-python",
   "name": "python",
   "nbconvert_exporter": "python",
   "pygments_lexer": "ipython3",
   "version": "3.8.3"
  },
  "latex_envs": {
   "LaTeX_envs_menu_present": true,
   "autoclose": false,
   "autocomplete": true,
   "bibliofile": "biblio.bib",
   "cite_by": "apalike",
   "current_citInitial": 1,
   "eqLabelWithNumbers": true,
   "eqNumInitial": 1,
   "hotkeys": {
    "equation": "Ctrl-E",
    "itemize": "Ctrl-I"
   },
   "labels_anchors": false,
   "latex_user_defs": false,
   "report_style_numbering": false,
   "user_envs_cfg": false
  }
 },
 "nbformat": 4,
 "nbformat_minor": 4
}
